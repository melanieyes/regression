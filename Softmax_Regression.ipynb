{
  "nbformat": 4,
  "nbformat_minor": 0,
  "metadata": {
    "colab": {
      "provenance": [],
      "toc_visible": true,
      "include_colab_link": true
    },
    "kernelspec": {
      "name": "python3",
      "display_name": "Python 3"
    },
    "language_info": {
      "name": "python"
    }
  },
  "cells": [
    {
      "cell_type": "markdown",
      "metadata": {
        "id": "view-in-github",
        "colab_type": "text"
      },
      "source": [
        "<a href=\"https://colab.research.google.com/github/melanieyes/regression/blob/main/Softmax_Regression.ipynb\" target=\"_parent\"><img src=\"https://colab.research.google.com/assets/colab-badge.svg\" alt=\"Open In Colab\"/></a>"
      ]
    },
    {
      "cell_type": "markdown",
      "source": [
        "#**Softmax Regression**"
      ],
      "metadata": {
        "id": "HlRatdXQDIJd"
      }
    },
    {
      "cell_type": "code",
      "source": [
        "import numpy as np\n",
        "import matplotlib.pyplot as plt"
      ],
      "metadata": {
        "id": "6x_EJFqOaA8r"
      },
      "execution_count": null,
      "outputs": []
    },
    {
      "cell_type": "markdown",
      "source": [
        "## **One Sample**"
      ],
      "metadata": {
        "id": "C5wT6Mbgo86W"
      }
    },
    {
      "cell_type": "code",
      "source": [
        "X = np.array([\n",
        "    [0.5],\n",
        "    [1.0],\n",
        "    [1.5],\n",
        "    [2.0],\n",
        "    [2.5],\n",
        "    [3.0],\n",
        "    [3.5],\n",
        "    [4.0],\n",
        "])\n",
        "Y = np.array([0, 0, 1, 0, 0, 1, 1, 1])"
      ],
      "metadata": {
        "id": "ddeOsyUQKE4q"
      },
      "execution_count": null,
      "outputs": []
    },
    {
      "cell_type": "code",
      "source": [
        "def convert_one_hot(y, k):\n",
        "    one_hot = np.zeros((len(y), k))\n",
        "    one_hot[np.arange(len(y)), y] = 1\n",
        "    return one_hot\n",
        "\n",
        "n_classes = 2\n",
        "Y_onehot = convert_one_hot(Y, n_classes)"
      ],
      "metadata": {
        "id": "E5LVRgUA6K18"
      },
      "execution_count": null,
      "outputs": []
    },
    {
      "cell_type": "code",
      "source": [
        "X = np.hstack([np.ones((X.shape[0], 1)), X])"
      ],
      "metadata": {
        "id": "g7oUfWbnKfxH"
      },
      "execution_count": null,
      "outputs": []
    },
    {
      "cell_type": "code",
      "source": [
        "X, Y_onehot"
      ],
      "metadata": {
        "id": "SlPlL1Pvmzar",
        "colab": {
          "base_uri": "https://localhost:8080/"
        },
        "outputId": "f685de62-bbdb-4c8e-88e7-b3f3e9651bf9"
      },
      "execution_count": null,
      "outputs": [
        {
          "output_type": "execute_result",
          "data": {
            "text/plain": [
              "(array([[1. , 0.5],\n",
              "        [1. , 1. ],\n",
              "        [1. , 1.5],\n",
              "        [1. , 2. ],\n",
              "        [1. , 2.5],\n",
              "        [1. , 3. ],\n",
              "        [1. , 3.5],\n",
              "        [1. , 4. ]]),\n",
              " array([[1., 0.],\n",
              "        [1., 0.],\n",
              "        [0., 1.],\n",
              "        [1., 0.],\n",
              "        [1., 0.],\n",
              "        [0., 1.],\n",
              "        [0., 1.],\n",
              "        [0., 1.]]))"
            ]
          },
          "metadata": {},
          "execution_count": 5
        }
      ]
    },
    {
      "cell_type": "code",
      "source": [
        "x = X[0].reshape((2,1))\n",
        "y = Y_onehot[0].reshape((2,1))\n",
        "x, y"
      ],
      "metadata": {
        "colab": {
          "base_uri": "https://localhost:8080/"
        },
        "id": "YLoqpocCCq9p",
        "outputId": "13266efd-0b31-4ec6-a019-77ba8c2638dd"
      },
      "execution_count": null,
      "outputs": [
        {
          "output_type": "execute_result",
          "data": {
            "text/plain": [
              "(array([[1. ],\n",
              "        [0.5]]),\n",
              " array([[1.],\n",
              "        [0.]]))"
            ]
          },
          "metadata": {},
          "execution_count": 6
        }
      ]
    },
    {
      "cell_type": "code",
      "source": [
        "theta = np.array([[0.1, 0.2], [0.3, 0.4]])\n",
        "theta"
      ],
      "metadata": {
        "colab": {
          "base_uri": "https://localhost:8080/"
        },
        "id": "qpEQZdctm_rX",
        "outputId": "7b431b28-f3cf-4a46-e749-9680bf4d3b7e"
      },
      "execution_count": null,
      "outputs": [
        {
          "output_type": "execute_result",
          "data": {
            "text/plain": [
              "array([[0.1, 0.2],\n",
              "       [0.3, 0.4]])"
            ]
          },
          "metadata": {},
          "execution_count": 7
        }
      ]
    },
    {
      "cell_type": "code",
      "source": [
        "# define softmax function\n",
        "def softmax_function(z):\n",
        "    return np.exp(z) / np.sum(np.exp(z))"
      ],
      "metadata": {
        "id": "q-pc65Cgmb2x"
      },
      "execution_count": null,
      "outputs": []
    },
    {
      "cell_type": "code",
      "source": [
        "# compute y_hat\n",
        "def predict(x, theta):\n",
        "    z = theta.T.dot(x)\n",
        "    y_hat = softmax_function(z)\n",
        "    return z, y_hat\n",
        "\n",
        "z, y_hat = predict(x, theta)\n",
        "z, y_hat"
      ],
      "metadata": {
        "colab": {
          "base_uri": "https://localhost:8080/"
        },
        "id": "zVZHQYVE5Bdf",
        "outputId": "dbc1cd68-d7de-46ff-9c50-7b0c078318cc"
      },
      "execution_count": null,
      "outputs": [
        {
          "output_type": "execute_result",
          "data": {
            "text/plain": [
              "(array([[0.25],\n",
              "        [0.4 ]]),\n",
              " array([[0.46257015],\n",
              "        [0.53742985]]))"
            ]
          },
          "metadata": {},
          "execution_count": 9
        }
      ]
    },
    {
      "cell_type": "code",
      "source": [
        "# compute loss\n",
        "def compute_loss(y_hat, y):\n",
        "    loss = -np.log(y.T.dot(y_hat))\n",
        "    return loss\n",
        "\n",
        "loss = compute_loss(y_hat, y)\n",
        "loss"
      ],
      "metadata": {
        "colab": {
          "base_uri": "https://localhost:8080/"
        },
        "id": "sEMvLsIW5QBO",
        "outputId": "67791265-6f64-4bc8-b3a0-2abcee35e3b2"
      },
      "execution_count": null,
      "outputs": [
        {
          "output_type": "execute_result",
          "data": {
            "text/plain": [
              "array([[0.77095705]])"
            ]
          },
          "metadata": {},
          "execution_count": 10
        }
      ]
    },
    {
      "cell_type": "code",
      "source": [
        "# compute gradient\n",
        "def compute_gradient(y_hat, y, x):\n",
        "    gradient = x.dot((y_hat - y).T)\n",
        "    return gradient\n",
        "\n",
        "gradient = compute_gradient(y_hat, y, x)\n",
        "gradient"
      ],
      "metadata": {
        "colab": {
          "base_uri": "https://localhost:8080/"
        },
        "id": "w7sxP88uDCCc",
        "outputId": "e279b102-e77c-4d57-ff0b-747dd6f315be"
      },
      "execution_count": null,
      "outputs": [
        {
          "output_type": "execute_result",
          "data": {
            "text/plain": [
              "array([[-0.53742985,  0.53742985],\n",
              "       [-0.26871492,  0.26871492]])"
            ]
          },
          "metadata": {},
          "execution_count": 11
        }
      ]
    },
    {
      "cell_type": "code",
      "source": [
        "# update weights\n",
        "learning_rate = 0.01\n",
        "\n",
        "def update_weight(theta, gradient, learning_rate):\n",
        "    theta -= (learning_rate * gradient)\n",
        "    return theta\n",
        "\n",
        "theta = update_weight(theta, gradient, learning_rate)\n",
        "theta"
      ],
      "metadata": {
        "colab": {
          "base_uri": "https://localhost:8080/"
        },
        "id": "cHJGwfFdoVlv",
        "outputId": "1014ec37-a367-4dfa-eadd-3f8b8544d39f"
      },
      "execution_count": null,
      "outputs": [
        {
          "output_type": "execute_result",
          "data": {
            "text/plain": [
              "array([[0.1053743 , 0.1946257 ],\n",
              "       [0.30268715, 0.39731285]])"
            ]
          },
          "metadata": {},
          "execution_count": 12
        }
      ]
    },
    {
      "cell_type": "code",
      "source": [
        "z, y_hat = predict(x, theta)\n",
        "z, y_hat"
      ],
      "metadata": {
        "colab": {
          "base_uri": "https://localhost:8080/"
        },
        "id": "MnOm9GVcok7n",
        "outputId": "328026d7-201f-46c9-eb09-14a27c7e8b58"
      },
      "execution_count": null,
      "outputs": [
        {
          "output_type": "execute_result",
          "data": {
            "text/plain": [
              "(array([[0.25671787],\n",
              "        [0.39328213]]),\n",
              " array([[0.4659119],\n",
              "        [0.5340881]]))"
            ]
          },
          "metadata": {},
          "execution_count": 13
        }
      ]
    },
    {
      "cell_type": "code",
      "source": [
        "loss = compute_loss(y_hat, y)\n",
        "loss"
      ],
      "metadata": {
        "colab": {
          "base_uri": "https://localhost:8080/"
        },
        "id": "e-jA5WXDosKh",
        "outputId": "c56357e2-f432-4e68-c8cc-e1c3b9c25649"
      },
      "execution_count": null,
      "outputs": [
        {
          "output_type": "execute_result",
          "data": {
            "text/plain": [
              "array([[0.76375872]])"
            ]
          },
          "metadata": {},
          "execution_count": 14
        }
      ]
    },
    {
      "cell_type": "markdown",
      "source": [
        "### **Training**"
      ],
      "metadata": {
        "id": "EB7ItLUzK1hm"
      }
    },
    {
      "cell_type": "code",
      "source": [
        "theta = np.array([[0.1, 0.2], [0.3, 0.4]])\n",
        "learning_rate = 0.1\n",
        "n_epochs = 20\n",
        "n_samples = X.shape[0]\n",
        "\n",
        "losses = []\n",
        "for epoch in range(n_epochs):\n",
        "    for i in range(n_samples):\n",
        "        xi = X[i]\n",
        "        yi = Y_onehot[i]\n",
        "\n",
        "        xi = xi.reshape((2,1))\n",
        "        yi = yi.reshape((2,1))\n",
        "\n",
        "        # compute z, y_hat\n",
        "        z, y_hat = predict(x, theta)\n",
        "\n",
        "        # compute loss\n",
        "        loss = compute_loss(y_hat, y)\n",
        "        losses.append(loss[0])\n",
        "\n",
        "        # compute gradient\n",
        "        gradient = compute_gradient(y_hat, y, x)\n",
        "\n",
        "        # update weight\n",
        "        theta = update_weight(theta, gradient, learning_rate)"
      ],
      "metadata": {
        "id": "FLwPgmIpK4O2"
      },
      "execution_count": null,
      "outputs": []
    },
    {
      "cell_type": "code",
      "source": [
        "plt.plot(losses)\n",
        "plt.show()"
      ],
      "metadata": {
        "colab": {
          "base_uri": "https://localhost:8080/",
          "height": 432
        },
        "id": "WbEzHWxHL3Fx",
        "outputId": "1ceb1126-73a7-47b1-8c6f-3b8d84381c1f"
      },
      "execution_count": null,
      "outputs": [
        {
          "output_type": "display_data",
          "data": {
            "text/plain": [
              "<Figure size 640x480 with 1 Axes>"
            ],
            "image/png": "[encoded data removed]"
          },
          "metadata": {}
        }
      ]
    },
    {
      "cell_type": "markdown",
      "source": [
        "**Prediction**"
      ],
      "metadata": {
        "id": "dXeRCFfOqXwY"
      }
    },
    {
      "cell_type": "code",
      "source": [
        "x_test = np.array([1.0, 0.25]).reshape((2,1))\n",
        "z, y_hat = predict(x_test, theta)\n",
        "pred = np.argmax(y_hat)\n",
        "pred"
      ],
      "metadata": {
        "colab": {
          "base_uri": "https://localhost:8080/"
        },
        "id": "9dujG_U4qZ2p",
        "outputId": "68279132-0102-426e-c5f0-cf7bebe549d3"
      },
      "execution_count": null,
      "outputs": [
        {
          "output_type": "execute_result",
          "data": {
            "text/plain": [
              "0"
            ]
          },
          "metadata": {},
          "execution_count": 30
        }
      ]
    },
    {
      "cell_type": "code",
      "source": [
        "z, y_hat"
      ],
      "metadata": {
        "colab": {
          "base_uri": "https://localhost:8080/"
        },
        "id": "uY7p41Q-j1o1",
        "outputId": "bbcc2d0e-caec-48ee-ac70-f69e1753ccb7"
      },
      "execution_count": null,
      "outputs": [
        {
          "output_type": "execute_result",
          "data": {
            "text/plain": [
              "(array([[ 1.87308086],\n",
              "        [-1.39808086]]),\n",
              " array([[0.96342613],\n",
              "        [0.03657387]]))"
            ]
          },
          "metadata": {},
          "execution_count": 31
        }
      ]
    },
    {
      "cell_type": "code",
      "source": [
        "theta"
      ],
      "metadata": {
        "colab": {
          "base_uri": "https://localhost:8080/"
        },
        "id": "KZvl4iNhkVYW",
        "outputId": "67237fce-7bd5-403a-c8d9-2e4fb6da4509"
      },
      "execution_count": null,
      "outputs": [
        {
          "output_type": "execute_result",
          "data": {
            "text/plain": [
              "array([[ 1.60940521, -1.30940521],\n",
              "       [ 1.0547026 , -0.3547026 ]])"
            ]
          },
          "metadata": {},
          "execution_count": 34
        }
      ]
    },
    {
      "cell_type": "markdown",
      "source": [
        "## **Batch Sample**"
      ],
      "metadata": {
        "id": "vBmo5VlYHyNg"
      }
    },
    {
      "cell_type": "code",
      "source": [
        "X, Y_onehot"
      ],
      "metadata": {
        "colab": {
          "base_uri": "https://localhost:8080/"
        },
        "id": "9zGDZPDHH0fk",
        "outputId": "0a01061a-399a-48be-c1dc-4f170b84105c"
      },
      "execution_count": null,
      "outputs": [
        {
          "output_type": "execute_result",
          "data": {
            "text/plain": [
              "(array([[1. , 0.5],\n",
              "        [1. , 1. ],\n",
              "        [1. , 1.5],\n",
              "        [1. , 2. ],\n",
              "        [1. , 2.5],\n",
              "        [1. , 3. ],\n",
              "        [1. , 3.5],\n",
              "        [1. , 4. ]]),\n",
              " array([[1., 0.],\n",
              "        [1., 0.],\n",
              "        [0., 1.],\n",
              "        [1., 0.],\n",
              "        [1., 0.],\n",
              "        [0., 1.],\n",
              "        [0., 1.],\n",
              "        [0., 1.]]))"
            ]
          },
          "metadata": {},
          "execution_count": 36
        }
      ]
    },
    {
      "cell_type": "code",
      "source": [
        "theta = np.array([[0.1, 0.2], [0.3, 0.4]])\n",
        "theta"
      ],
      "metadata": {
        "colab": {
          "base_uri": "https://localhost:8080/"
        },
        "id": "N-dEz7bbkzXV",
        "outputId": "707ef64f-f833-4426-93fe-830ae856fcf3"
      },
      "execution_count": null,
      "outputs": [
        {
          "output_type": "execute_result",
          "data": {
            "text/plain": [
              "array([[0.1, 0.2],\n",
              "       [0.3, 0.4]])"
            ]
          },
          "metadata": {},
          "execution_count": 38
        }
      ]
    },
    {
      "cell_type": "code",
      "source": [
        "X.shape"
      ],
      "metadata": {
        "colab": {
          "base_uri": "https://localhost:8080/"
        },
        "id": "XVsV_qS8k84S",
        "outputId": "845eeade-aa6c-4633-baf5-432b5748aeca"
      },
      "execution_count": null,
      "outputs": [
        {
          "output_type": "execute_result",
          "data": {
            "text/plain": [
              "(8, 2)"
            ]
          },
          "metadata": {},
          "execution_count": 41
        }
      ]
    },
    {
      "cell_type": "code",
      "source": [
        "# define softmax function\n",
        "def softmax_function(z):\n",
        "    return np.exp(z) / np.sum(np.exp(z), axis=1, keepdims=True)"
      ],
      "metadata": {
        "id": "iYafzMKNlLHe"
      },
      "execution_count": null,
      "outputs": []
    },
    {
      "cell_type": "code",
      "source": [
        "# compute y_hat\n",
        "def predict(x, theta):\n",
        "    z = x.dot(theta)\n",
        "    y_hat = softmax_function(z)\n",
        "    return z, y_hat\n",
        "\n",
        "z, y_hat = predict(X, theta)\n",
        "z, y_hat"
      ],
      "metadata": {
        "colab": {
          "base_uri": "https://localhost:8080/"
        },
        "id": "gnqYgQl0krhk",
        "outputId": "23160020-da84-4876-ef67-80d2ce72677a"
      },
      "execution_count": null,
      "outputs": [
        {
          "output_type": "execute_result",
          "data": {
            "text/plain": [
              "(array([[0.25, 0.4 ],\n",
              "        [0.4 , 0.6 ],\n",
              "        [0.55, 0.8 ],\n",
              "        [0.7 , 1.  ],\n",
              "        [0.85, 1.2 ],\n",
              "        [1.  , 1.4 ],\n",
              "        [1.15, 1.6 ],\n",
              "        [1.3 , 1.8 ]]),\n",
              " array([[0.46257015, 0.53742985],\n",
              "        [0.450166  , 0.549834  ],\n",
              "        [0.4378235 , 0.5621765 ],\n",
              "        [0.42555748, 0.57444252],\n",
              "        [0.41338242, 0.58661758],\n",
              "        [0.40131234, 0.59868766],\n",
              "        [0.38936077, 0.61063923],\n",
              "        [0.37754067, 0.62245933]]))"
            ]
          },
          "metadata": {},
          "execution_count": 44
        }
      ]
    },
    {
      "cell_type": "code",
      "source": [
        "# compute loss\n",
        "def compute_loss(y_hat, y):\n",
        "    loss = -np.log(np.sum(y_hat*y, axis=1))\n",
        "    return loss\n",
        "\n",
        "loss = compute_loss(y_hat, Y_onehot)\n",
        "loss"
      ],
      "metadata": {
        "colab": {
          "base_uri": "https://localhost:8080/"
        },
        "id": "ck1rywNgla8r",
        "outputId": "574d5f47-cb7e-4582-88da-a59b3c52cdc4"
      },
      "execution_count": null,
      "outputs": [
        {
          "output_type": "execute_result",
          "data": {
            "text/plain": [
              "array([0.77095705, 0.79813887, 0.57593942, 0.85435524, 0.88338216,\n",
              "       0.51301525, 0.49324895, 0.47407698])"
            ]
          },
          "metadata": {},
          "execution_count": 45
        }
      ]
    },
    {
      "cell_type": "code",
      "source": [
        "# compute gradient\n",
        "def compute_gradient(y_hat, y, x):\n",
        "    gradient = x.T.dot(y_hat - y)\n",
        "    return gradient\n",
        "\n",
        "gradient = compute_gradient(y_hat, Y_onehot, X)\n",
        "gradient"
      ],
      "metadata": {
        "colab": {
          "base_uri": "https://localhost:8080/"
        },
        "id": "sWrW9pSvl06f",
        "outputId": "86202147-fbb1-4ce3-f619-14c2500644bd"
      },
      "execution_count": null,
      "outputs": [
        {
          "output_type": "execute_result",
          "data": {
            "text/plain": [
              "array([[-0.64228666,  0.64228666],\n",
              "       [ 1.29961972, -1.29961972]])"
            ]
          },
          "metadata": {},
          "execution_count": 51
        }
      ]
    },
    {
      "cell_type": "code",
      "source": [
        "# update weights\n",
        "learning_rate = 0.01\n",
        "\n",
        "def update_weight(theta, gradient, learning_rate):\n",
        "    theta -= (learning_rate * gradient)\n",
        "    return theta\n",
        "\n",
        "theta = update_weight(theta, gradient, learning_rate)\n",
        "theta"
      ],
      "metadata": {
        "colab": {
          "base_uri": "https://localhost:8080/"
        },
        "id": "Fj0r0vPUmYEE",
        "outputId": "d4e0fb10-a250-4459-ba7e-4444a58fed12"
      },
      "execution_count": null,
      "outputs": [
        {
          "output_type": "execute_result",
          "data": {
            "text/plain": [
              "array([[0.10642287, 0.19357713],\n",
              "       [0.2870038 , 0.4129962 ]])"
            ]
          },
          "metadata": {},
          "execution_count": 52
        }
      ]
    },
    {
      "cell_type": "markdown",
      "source": [
        "### Training"
      ],
      "metadata": {
        "id": "2YRbAQlfk72b"
      }
    },
    {
      "cell_type": "code",
      "source": [
        "theta = np.random.rand(2,2)\n",
        "learning_rate = 0.01\n",
        "n_epochs = 500\n",
        "n_samples = X.shape[0]\n",
        "\n",
        "losses = []\n",
        "for epoch in range(n_epochs):\n",
        "    # compute z, y_hat\n",
        "    z, y_hat = predict(X, theta)\n",
        "\n",
        "    # compute loss\n",
        "    loss = compute_loss(y_hat, Y_onehot)\n",
        "    losses.append(np.sum(loss))\n",
        "\n",
        "    # compute gradient\n",
        "    gradient = compute_gradient(y_hat, Y_onehot, X)\n",
        "\n",
        "    # update weight\n",
        "    theta = update_weight(theta, gradient, learning_rate)"
      ],
      "metadata": {
        "id": "RIEYxD_Gmd1G"
      },
      "execution_count": null,
      "outputs": []
    },
    {
      "cell_type": "code",
      "source": [
        "plt.plot(losses)\n",
        "plt.show()"
      ],
      "metadata": {
        "colab": {
          "base_uri": "https://localhost:8080/",
          "height": 430
        },
        "id": "4T_u-H2_my5K",
        "outputId": "b010bb0d-f6db-43e6-cab5-ab04b2711448"
      },
      "execution_count": null,
      "outputs": [
        {
          "output_type": "display_data",
          "data": {
            "text/plain": [
              "<Figure size 640x480 with 1 Axes>"
            ],
            "image/png": "[encoded data removed]"
          },
          "metadata": {}
        }
      ]
    }
  ]
}